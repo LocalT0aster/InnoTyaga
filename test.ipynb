{
 "cells": [
  {
   "cell_type": "code",
   "execution_count": null,
   "metadata": {},
   "outputs": [],
   "source": [
    "from data import *\n",
    "from kachok import *\n",
    "testKachok = Kachok('nerag0n7', 'Toaster')\n",
    "testKachok.set_self_weight(75.05)\n",
    "testKachok.set_weight(35)\n",
    "testkachok1 = Kachok('blagorodnyolen', 'Anton')\n",
    "testkachok1.set_self_weight(69)\n",
    "testkachok1.set_weight(420)\n",
    "testKachok.weightByDate['14/07/2023'] = 34\n",
    "\n",
    "kachki[testKachok.alias] = testKachok\n",
    "kachki[testkachok1.alias] = testkachok1\n",
    "writeData()"
   ]
  },
  {
   "cell_type": "code",
   "execution_count": null,
   "metadata": {},
   "outputs": [],
   "source": [
    "data = loadData()"
   ]
  },
  {
   "cell_type": "code",
   "execution_count": null,
   "metadata": {},
   "outputs": [],
   "source": [
    "kachki = {m.alias : m for m in [kachok_decoder(mem) for mem in loadData()]}\n",
    "for k in kachki.values():\n",
    "    print(k.display())"
   ]
  },
  {
   "cell_type": "code",
   "execution_count": null,
   "metadata": {},
   "outputs": [],
   "source": [
    "from data import *\n",
    "from kachok import Kachok\n",
    "load_kachki()\n",
    "for k in kachki:\n",
    "    print(kachki[k].display())\n",
    "    kachki[k].proteinPoints = kachki[k].proteinPoints * 0.5\n",
    "    kachki[k].grade()\n",
    "    date = \"21/09/2023\"\n",
    "    kachki[k].proteinPointsByDate[date] = kachki[k].proteinPoints\n",
    "\n",
    "write_data()"
   ]
  }
 ],
 "metadata": {
  "kernelspec": {
   "display_name": "Python 3",
   "language": "python",
   "name": "python3"
  },
  "language_info": {
   "codemirror_mode": {
    "name": "ipython",
    "version": 3
   },
   "file_extension": ".py",
   "mimetype": "text/x-python",
   "name": "python",
   "nbconvert_exporter": "python",
   "pygments_lexer": "ipython3",
   "version": "3.11.3"
  },
  "orig_nbformat": 4
 },
 "nbformat": 4,
 "nbformat_minor": 2
}
